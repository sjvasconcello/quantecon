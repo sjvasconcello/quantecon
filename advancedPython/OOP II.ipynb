{
 "cells": [
  {
   "cell_type": "markdown",
   "metadata": {},
   "source": [
    "# OOP II: Building Classes\n",
    "## Key Concepts"
   ]
  },
  {
   "cell_type": "code",
   "execution_count": 1,
   "metadata": {},
   "outputs": [
    {
     "data": {
      "text/plain": [
       "[1, 4, 5]"
      ]
     },
     "execution_count": 1,
     "metadata": {},
     "output_type": "execute_result"
    }
   ],
   "source": [
    "x = [1,5,4]\n",
    "x.sort()\n",
    "x"
   ]
  },
  {
   "cell_type": "code",
   "execution_count": 2,
   "metadata": {},
   "outputs": [
    {
     "data": {
      "text/plain": [
       "list"
      ]
     },
     "execution_count": 2,
     "metadata": {},
     "output_type": "execute_result"
    }
   ],
   "source": [
    "x = [1, 5, 4]\n",
    "x.sort()\n",
    "x.__class__"
   ]
  },
  {
   "cell_type": "markdown",
   "metadata": {},
   "source": [
    "## Defining Your Own Classes\n",
    "### A Consumer Class"
   ]
  },
  {
   "cell_type": "code",
   "execution_count": 5,
   "metadata": {},
   "outputs": [],
   "source": [
    "class Consumer:\n",
    "    def __init__(self,w):\n",
    "        self.wealth = w\n",
    "        \n",
    "    def earn(self, y):\n",
    "        self.wealth += y\n",
    "        \n",
    "    def spend(self, x):\n",
    "        new_wealth = self.wealth - x\n",
    "        if new_wealth < 0:\n",
    "            print(\"Insufficent Funds\")\n",
    "        else:\n",
    "            self.wealth = new_wealth        "
   ]
  },
  {
   "cell_type": "code",
   "execution_count": 6,
   "metadata": {},
   "outputs": [
    {
     "data": {
      "text/plain": [
       "5"
      ]
     },
     "execution_count": 6,
     "metadata": {},
     "output_type": "execute_result"
    }
   ],
   "source": [
    "c1 = Consumer(10)\n",
    "c1.spend(5)\n",
    "c1.wealth"
   ]
  },
  {
   "cell_type": "code",
   "execution_count": 7,
   "metadata": {},
   "outputs": [
    {
     "name": "stdout",
     "output_type": "stream",
     "text": [
      "Insufficent Funds\n"
     ]
    }
   ],
   "source": [
    "c1.earn(15)\n",
    "c1.spend(100)"
   ]
  },
  {
   "cell_type": "code",
   "execution_count": 8,
   "metadata": {},
   "outputs": [
    {
     "data": {
      "text/plain": [
       "8"
      ]
     },
     "execution_count": 8,
     "metadata": {},
     "output_type": "execute_result"
    }
   ],
   "source": [
    "c1 = Consumer(10)\n",
    "c2 = Consumer (12)\n",
    "c2.spend(4)\n",
    "c2.wealth"
   ]
  },
  {
   "cell_type": "code",
   "execution_count": 9,
   "metadata": {},
   "outputs": [
    {
     "data": {
      "text/plain": [
       "10"
      ]
     },
     "execution_count": 9,
     "metadata": {},
     "output_type": "execute_result"
    }
   ],
   "source": [
    "c1.wealth"
   ]
  },
  {
   "cell_type": "code",
   "execution_count": 10,
   "metadata": {},
   "outputs": [
    {
     "data": {
      "text/plain": [
       "{'wealth': 10}"
      ]
     },
     "execution_count": 10,
     "metadata": {},
     "output_type": "execute_result"
    }
   ],
   "source": [
    "c1.__dict__"
   ]
  },
  {
   "cell_type": "code",
   "execution_count": 11,
   "metadata": {},
   "outputs": [
    {
     "data": {
      "text/plain": [
       "{'wealth': 8}"
      ]
     },
     "execution_count": 11,
     "metadata": {},
     "output_type": "execute_result"
    }
   ],
   "source": [
    "c2.__dict__"
   ]
  },
  {
   "cell_type": "code",
   "execution_count": 12,
   "metadata": {},
   "outputs": [
    {
     "name": "stdout",
     "output_type": "stream",
     "text": [
      "{'__module__': '__main__', '__init__': <function Consumer.__init__ at 0x7f1b401e46a8>, 'earn': <function Consumer.earn at 0x7f1b401e4510>, 'spend': <function Consumer.spend at 0x7f1b401e4268>, '__dict__': <attribute '__dict__' of 'Consumer' objects>, '__weakref__': <attribute '__weakref__' of 'Consumer' objects>, '__doc__': None}\n"
     ]
    }
   ],
   "source": [
    "print(Consumer.__dict__)"
   ]
  },
  {
   "cell_type": "code",
   "execution_count": 13,
   "metadata": {},
   "outputs": [
    {
     "data": {
      "text/plain": [
       "20"
      ]
     },
     "execution_count": 13,
     "metadata": {},
     "output_type": "execute_result"
    }
   ],
   "source": [
    "c1 = Consumer(10)\n",
    "c1.earn(10)\n",
    "c1.wealth"
   ]
  },
  {
   "cell_type": "markdown",
   "metadata": {},
   "source": [
    "## Example: The Solow Grown Model"
   ]
  },
  {
   "cell_type": "markdown",
   "metadata": {},
   "source": [
    "$$ k_{t+1} = \\frac{szk^{\\alpha}_t + (1 - \\gamma)k_t}{1 + n} $$"
   ]
  },
  {
   "cell_type": "markdown",
   "metadata": {},
   "source": [
    "- s: Es una tasa de ahorro \n",
    "- z: Es un parámetro de productividad\n",
    "- $\\alpha$: Es la participación del capital en los ingresos del norte\n",
    "- $\\gamma$: Es la tasa de depreciación"
   ]
  },
  {
   "cell_type": "code",
   "execution_count": 27,
   "metadata": {},
   "outputs": [],
   "source": [
    "class Solow:\n",
    "    def __init__(self,\n",
    "                     n = 0.05, # Rango de crecimiento poblacional\n",
    "                     s = 0.25, # Ratio de ahorro\n",
    "                     gamma = 0.1, # Ratio de Depresiacion\n",
    "                     alpha = 0.3, # Labor compartida\n",
    "                     z = 2.0, # Productividad\n",
    "                     k = 1.0): # Current capital stock\n",
    "        self.n, self.s, self.gamma, self.alpha, self.z = n, s, gamma, alpha, z\n",
    "        self.k = k\n",
    "    \n",
    "    def h(self):\n",
    "        #Evaluar parametros\n",
    "        n, s, gamma, alpha, z = self.n, self.s, self.gamma, self.alpha, self.z\n",
    "        return (s * z * self.k**alpha + (1 - gamma) * self.k)/(1 + n)\n",
    "    \n",
    "    def update(self):\n",
    "        self.k = self.h()\n",
    "    \n",
    "    def steady_state(self):\n",
    "        n, s, gamma, alpha, z = self.n, self.s, self.gamma, self.alpha, self.z\n",
    "        return ((s * z)/(n + gamma))**(1/ (1 - alpha))\n",
    "    \n",
    "    def generate_sequence(self, t):\n",
    "        path = []\n",
    "        for i in range(t):\n",
    "            path.append(self.k)\n",
    "            self.update()\n",
    "        return path\n",
    "    \n",
    "    "
   ]
  },
  {
   "cell_type": "code",
   "execution_count": 28,
   "metadata": {},
   "outputs": [
    {
     "data": {
      "image/png": "[encoded data removed]",
      "text/plain": [
       "<Figure size 648x432 with 1 Axes>"
      ]
     },
     "metadata": {},
     "output_type": "display_data"
    }
   ],
   "source": [
    "import matplotlib.pyplot as plt\n",
    "%matplotlib inline\n",
    "\n",
    "s1 = Solow()\n",
    "s2 = Solow(k=8.0)\n",
    "\n",
    "T = 60\n",
    "fig, ax = plt.subplots(figsize=(9,6))\n",
    "\n",
    "ax.plot([s1.steady_state()]*T, 'k-', label='steady state')\n",
    "\n",
    "for s in s1, s2:\n",
    "    lb = f'Capital series from initial state {s.k}'\n",
    "    ax.plot(s.generate_sequence(T), 'o-', lw=2, alpha=0.3, label=lb)\n",
    "\n",
    "ax.legend()\n",
    "plt.show()"
   ]
  },
  {
   "cell_type": "markdown",
   "metadata": {},
   "source": [
    "## A Market\n",
    "\n",
    "- Curva de la demanda $Q = a_d - b_dp$\n",
    "- Curva de la oferta $Q = a_z + b_z(p - t)$\n"
   ]
  },
  {
   "cell_type": "code",
   "execution_count": 9,
   "metadata": {},
   "outputs": [],
   "source": [
    "from scipy.integrate import quad\n",
    "\n",
    "class Market:\n",
    "    def __init__(self, ad, bd, az, bz, tax):\n",
    "        self.ad, self.bd, self.az, self.bz, self.tax =ad, bd, az, bz, tax\n",
    "        if ad < az:\n",
    "            raise ValueError('Demanda insuficiente')\n",
    "    \n",
    "    def price(self):\n",
    "        # Retorna el precio de equilibrio\n",
    "        return (self.ad - self.az + self.bz * self.tax)/(self.bd + self.bz)\n",
    "    \n",
    "    def quantity(self):\n",
    "        # Retorna la cantidad de equilibrio\n",
    "        return self.ad - self.bd * self.price()\n",
    "    \n",
    "    def consumer_surp(self):\n",
    "        # Calcular el excedente del consumidor\n",
    "        # Área de cómputo bajo función de demanda inversa\n",
    "        integrand = lambda x: (self.ad / self.bd) - (1 / self.bd) * x\n",
    "        area, error = quad(integrand, 0, self.quantity())\n",
    "        return area - self.price() * self.quantity()\n",
    "    \n",
    "    def taxrev(self):\n",
    "        # Retorna los ingresos fiscales\n",
    "        return self.tax * self.quantity()\n",
    "\n",
    "    def inverse_demand(self,x):\n",
    "        return self.ad / self.bd - (1 / self.bd) * x\n",
    "    \n",
    "    def inverse_supply(self, x):\n",
    "        # Calcula la curva de oferta\n",
    "        return -(self.az / self.bz) + (1 / self.bz) * x + self.tax\n",
    "        \n",
    "    def inverse_supply_no_tax(self, x):\n",
    "        # Calcula la curva de oferta sin impuesto\n",
    "        return -(self.az / self.bz) + (1 /self.bz) * x\n",
    "        "
   ]
  },
  {
   "cell_type": "code",
   "execution_count": 6,
   "metadata": {},
   "outputs": [
    {
     "name": "stdout",
     "output_type": "stream",
     "text": [
      "Precio de equilibrio =  18.5\n",
      "Oferta del Vendedor =  33.0625\n"
     ]
    }
   ],
   "source": [
    "baseline_params = 15, .5, -2, .5, 3\n",
    "m = Market(*baseline_params)\n",
    "print(\"Precio de equilibrio = \", m.price())\n",
    "print(\"Oferta del Vendedor = \", m.consumer_surp())"
   ]
  },
  {
   "cell_type": "code",
   "execution_count": 17,
   "metadata": {},
   "outputs": [
    {
     "data": {
      "image/png": "[encoded data removed]",
      "text/plain": [
       "<Figure size 432x288 with 1 Axes>"
      ]
     },
     "metadata": {},
     "output_type": "display_data"
    }
   ],
   "source": [
    "import numpy as np\n",
    "import matplotlib.pyplot as plt\n",
    "%matplotlib inline\n",
    "\n",
    "baseline_params = 15, .5, -2, .5, 3\n",
    "m = Market(*baseline_params)\n",
    "\n",
    "q_max = m.quantity()*2\n",
    "q_grid = np.linspace(0.0, q_max, 100)\n",
    "pd = m.inverse_demand(q_grid)\n",
    "ps = m.inverse_supply(q_grid)\n",
    "psno = m.inverse_supply_no_tax(q_grid)\n",
    "\n",
    "fig, ax = plt.subplots()\n",
    "ax.plot(q_grid, pd, lw=2, alpha=0.6, label='Demanda')\n",
    "ax.plot(q_grid, ps, lw=2, alpha=0.6, label='Oferta')\n",
    "ax.plot(q_grid, psno, '--k' ,lw=2, alpha=0.6, label='Oferta sin impuesto')\n",
    "\n",
    "ax.set_xlabel('Cantidad', fontsize=12)\n",
    "ax.set_xlim(0,q_max)\n",
    "ax.set_ylabel('Precio', fontsize=12)\n",
    "\n",
    "ax.legend(loc='lower right', frameon=False, fontsize=10)\n",
    "\n",
    "plt.show()\n"
   ]
  },
  {
   "cell_type": "code",
   "execution_count": null,
   "metadata": {},
   "outputs": [],
   "source": []
  }
 ],
 "metadata": {
  "kernelspec": {
   "display_name": "Python 3",
   "language": "python",
   "name": "python3"
  },
  "language_info": {
   "codemirror_mode": {
    "name": "ipython",
    "version": 3
   },
   "file_extension": ".py",
   "mimetype": "text/x-python",
   "name": "python",
   "nbconvert_exporter": "python",
   "pygments_lexer": "ipython3",
   "version": "3.6.5"
  }
 },
 "nbformat": 4,
 "nbformat_minor": 2
}
