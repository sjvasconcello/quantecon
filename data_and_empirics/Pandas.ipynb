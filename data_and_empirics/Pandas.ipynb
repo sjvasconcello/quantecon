{
 "cells": [
  {
   "cell_type": "markdown",
   "metadata": {},
   "source": [
    "# Pandas"
   ]
  },
  {
   "cell_type": "code",
   "execution_count": 3,
   "metadata": {},
   "outputs": [],
   "source": [
    "import pandas as pd\n",
    "import numpy as np"
   ]
  },
  {
   "cell_type": "code",
   "execution_count": 8,
   "metadata": {},
   "outputs": [
    {
     "data": {
      "text/plain": [
       "0    0.504022\n",
       "1   -1.387140\n",
       "2    0.163263\n",
       "3    1.072636\n",
       "Name: daily returns, dtype: float64"
      ]
     },
     "execution_count": 8,
     "metadata": {},
     "output_type": "execute_result"
    }
   ],
   "source": [
    "s = pd.Series(np.random.randn(4), name='daily returns')\n",
    "s"
   ]
  },
  {
   "cell_type": "code",
   "execution_count": 9,
   "metadata": {},
   "outputs": [
    {
     "data": {
      "text/plain": [
       "0     50.402161\n",
       "1   -138.714028\n",
       "2     16.326253\n",
       "3    107.263611\n",
       "Name: daily returns, dtype: float64"
      ]
     },
     "execution_count": 9,
     "metadata": {},
     "output_type": "execute_result"
    }
   ],
   "source": [
    "s * 100"
   ]
  },
  {
   "cell_type": "code",
   "execution_count": 10,
   "metadata": {},
   "outputs": [
    {
     "data": {
      "text/plain": [
       "0    0.504022\n",
       "1    1.387140\n",
       "2    0.163263\n",
       "3    1.072636\n",
       "Name: daily returns, dtype: float64"
      ]
     },
     "execution_count": 10,
     "metadata": {},
     "output_type": "execute_result"
    }
   ],
   "source": [
    "np.abs(s)"
   ]
  },
  {
   "cell_type": "code",
   "execution_count": 11,
   "metadata": {},
   "outputs": [
    {
     "data": {
      "text/plain": [
       "count    4.000000\n",
       "mean     0.088195\n",
       "std      1.052661\n",
       "min     -1.387140\n",
       "25%     -0.224338\n",
       "50%      0.333642\n",
       "75%      0.646175\n",
       "max      1.072636\n",
       "Name: daily returns, dtype: float64"
      ]
     },
     "execution_count": 11,
     "metadata": {},
     "output_type": "execute_result"
    }
   ],
   "source": [
    "s.describe()"
   ]
  },
  {
   "cell_type": "code",
   "execution_count": 16,
   "metadata": {},
   "outputs": [
    {
     "data": {
      "text/plain": [
       "AMZN    0.504022\n",
       "AAPL   -1.387140\n",
       "MSFT    0.163263\n",
       "GOOG    1.072636\n",
       "Name: daily returns, dtype: float64"
      ]
     },
     "execution_count": 16,
     "metadata": {},
     "output_type": "execute_result"
    }
   ],
   "source": [
    "s.index = ['AMZN', 'AAPL', 'MSFT', 'GOOG']\n",
    "s"
   ]
  },
  {
   "cell_type": "code",
   "execution_count": 19,
   "metadata": {},
   "outputs": [
    {
     "data": {
      "text/plain": [
       "0.504021611472622"
      ]
     },
     "execution_count": 19,
     "metadata": {},
     "output_type": "execute_result"
    }
   ],
   "source": [
    "s['AMZN']"
   ]
  },
  {
   "cell_type": "code",
   "execution_count": 20,
   "metadata": {},
   "outputs": [
    {
     "data": {
      "text/plain": [
       "AMZN    0.000000\n",
       "AAPL   -1.387140\n",
       "MSFT    0.163263\n",
       "GOOG    1.072636\n",
       "Name: daily returns, dtype: float64"
      ]
     },
     "execution_count": 20,
     "metadata": {},
     "output_type": "execute_result"
    }
   ],
   "source": [
    "s['AMZN'] = 0\n",
    "s"
   ]
  },
  {
   "cell_type": "code",
   "execution_count": 21,
   "metadata": {},
   "outputs": [
    {
     "data": {
      "text/plain": [
       "True"
      ]
     },
     "execution_count": 21,
     "metadata": {},
     "output_type": "execute_result"
    }
   ],
   "source": [
    "'AAPL' in s"
   ]
  },
  {
   "cell_type": "markdown",
   "metadata": {},
   "source": [
    "## DataFrames"
   ]
  },
  {
   "cell_type": "code",
   "execution_count": 23,
   "metadata": {},
   "outputs": [
    {
     "data": {
      "text/plain": [
       "pandas.core.frame.DataFrame"
      ]
     },
     "execution_count": 23,
     "metadata": {},
     "output_type": "execute_result"
    }
   ],
   "source": [
    "df = pd.read_csv('https://github.com/QuantEcon/QuantEcon.lectures.code/raw/master/pandas/data/test_pwt.csv')\n",
    "type(df)"
   ]
  },
  {
   "cell_type": "code",
   "execution_count": 24,
   "metadata": {},
   "outputs": [
    {
     "data": {
      "text/html": [
       "<div>\n",
       "<style scoped>\n",
       "    .dataframe tbody tr th:only-of-type {\n",
       "        vertical-align: middle;\n",
       "    }\n",
       "\n",
       "    .dataframe tbody tr th {\n",
       "        vertical-align: top;\n",
       "    }\n",
       "\n",
       "    .dataframe thead th {\n",
       "        text-align: right;\n",
       "    }\n",
       "</style>\n",
       "<table border=\"1\" class=\"dataframe\">\n",
       "  <thead>\n",
       "    <tr style=\"text-align: right;\">\n",
       "      <th></th>\n",
       "      <th>country</th>\n",
       "      <th>country isocode</th>\n",
       "      <th>year</th>\n",
       "      <th>POP</th>\n",
       "      <th>XRAT</th>\n",
       "      <th>tcgdp</th>\n",
       "      <th>cc</th>\n",
       "      <th>cg</th>\n",
       "    </tr>\n",
       "  </thead>\n",
       "  <tbody>\n",
       "    <tr>\n",
       "      <th>0</th>\n",
       "      <td>Argentina</td>\n",
       "      <td>ARG</td>\n",
       "      <td>2000</td>\n",
       "      <td>37335.653</td>\n",
       "      <td>0.999500</td>\n",
       "      <td>2.950722e+05</td>\n",
       "      <td>75.716805</td>\n",
       "      <td>5.578804</td>\n",
       "    </tr>\n",
       "    <tr>\n",
       "      <th>1</th>\n",
       "      <td>Australia</td>\n",
       "      <td>AUS</td>\n",
       "      <td>2000</td>\n",
       "      <td>19053.186</td>\n",
       "      <td>1.724830</td>\n",
       "      <td>5.418047e+05</td>\n",
       "      <td>67.759026</td>\n",
       "      <td>6.720098</td>\n",
       "    </tr>\n",
       "    <tr>\n",
       "      <th>2</th>\n",
       "      <td>India</td>\n",
       "      <td>IND</td>\n",
       "      <td>2000</td>\n",
       "      <td>1006300.297</td>\n",
       "      <td>44.941600</td>\n",
       "      <td>1.728144e+06</td>\n",
       "      <td>64.575551</td>\n",
       "      <td>14.072206</td>\n",
       "    </tr>\n",
       "    <tr>\n",
       "      <th>3</th>\n",
       "      <td>Israel</td>\n",
       "      <td>ISR</td>\n",
       "      <td>2000</td>\n",
       "      <td>6114.570</td>\n",
       "      <td>4.077330</td>\n",
       "      <td>1.292539e+05</td>\n",
       "      <td>64.436451</td>\n",
       "      <td>10.266688</td>\n",
       "    </tr>\n",
       "    <tr>\n",
       "      <th>4</th>\n",
       "      <td>Malawi</td>\n",
       "      <td>MWI</td>\n",
       "      <td>2000</td>\n",
       "      <td>11801.505</td>\n",
       "      <td>59.543808</td>\n",
       "      <td>5.026222e+03</td>\n",
       "      <td>74.707624</td>\n",
       "      <td>11.658954</td>\n",
       "    </tr>\n",
       "    <tr>\n",
       "      <th>5</th>\n",
       "      <td>South Africa</td>\n",
       "      <td>ZAF</td>\n",
       "      <td>2000</td>\n",
       "      <td>45064.098</td>\n",
       "      <td>6.939830</td>\n",
       "      <td>2.272424e+05</td>\n",
       "      <td>72.718710</td>\n",
       "      <td>5.726546</td>\n",
       "    </tr>\n",
       "    <tr>\n",
       "      <th>6</th>\n",
       "      <td>United States</td>\n",
       "      <td>USA</td>\n",
       "      <td>2000</td>\n",
       "      <td>282171.957</td>\n",
       "      <td>1.000000</td>\n",
       "      <td>9.898700e+06</td>\n",
       "      <td>72.347054</td>\n",
       "      <td>6.032454</td>\n",
       "    </tr>\n",
       "    <tr>\n",
       "      <th>7</th>\n",
       "      <td>Uruguay</td>\n",
       "      <td>URY</td>\n",
       "      <td>2000</td>\n",
       "      <td>3219.793</td>\n",
       "      <td>12.099592</td>\n",
       "      <td>2.525596e+04</td>\n",
       "      <td>78.978740</td>\n",
       "      <td>5.108068</td>\n",
       "    </tr>\n",
       "  </tbody>\n",
       "</table>\n",
       "</div>"
      ],
      "text/plain": [
       "         country country isocode  year          POP       XRAT         tcgdp  \\\n",
       "0      Argentina             ARG  2000    37335.653   0.999500  2.950722e+05   \n",
       "1      Australia             AUS  2000    19053.186   1.724830  5.418047e+05   \n",
       "2          India             IND  2000  1006300.297  44.941600  1.728144e+06   \n",
       "3         Israel             ISR  2000     6114.570   4.077330  1.292539e+05   \n",
       "4         Malawi             MWI  2000    11801.505  59.543808  5.026222e+03   \n",
       "5   South Africa             ZAF  2000    45064.098   6.939830  2.272424e+05   \n",
       "6  United States             USA  2000   282171.957   1.000000  9.898700e+06   \n",
       "7        Uruguay             URY  2000     3219.793  12.099592  2.525596e+04   \n",
       "\n",
       "          cc         cg  \n",
       "0  75.716805   5.578804  \n",
       "1  67.759026   6.720098  \n",
       "2  64.575551  14.072206  \n",
       "3  64.436451  10.266688  \n",
       "4  74.707624  11.658954  \n",
       "5  72.718710   5.726546  \n",
       "6  72.347054   6.032454  \n",
       "7  78.978740   5.108068  "
      ]
     },
     "execution_count": 24,
     "metadata": {},
     "output_type": "execute_result"
    }
   ],
   "source": [
    "df"
   ]
  },
  {
   "cell_type": "code",
   "execution_count": 25,
   "metadata": {},
   "outputs": [
    {
     "data": {
      "text/html": [
       "<div>\n",
       "<style scoped>\n",
       "    .dataframe tbody tr th:only-of-type {\n",
       "        vertical-align: middle;\n",
       "    }\n",
       "\n",
       "    .dataframe tbody tr th {\n",
       "        vertical-align: top;\n",
       "    }\n",
       "\n",
       "    .dataframe thead th {\n",
       "        text-align: right;\n",
       "    }\n",
       "</style>\n",
       "<table border=\"1\" class=\"dataframe\">\n",
       "  <thead>\n",
       "    <tr style=\"text-align: right;\">\n",
       "      <th></th>\n",
       "      <th>country</th>\n",
       "      <th>country isocode</th>\n",
       "      <th>year</th>\n",
       "      <th>POP</th>\n",
       "      <th>XRAT</th>\n",
       "      <th>tcgdp</th>\n",
       "      <th>cc</th>\n",
       "      <th>cg</th>\n",
       "    </tr>\n",
       "  </thead>\n",
       "  <tbody>\n",
       "    <tr>\n",
       "      <th>2</th>\n",
       "      <td>India</td>\n",
       "      <td>IND</td>\n",
       "      <td>2000</td>\n",
       "      <td>1006300.297</td>\n",
       "      <td>44.941600</td>\n",
       "      <td>1.728144e+06</td>\n",
       "      <td>64.575551</td>\n",
       "      <td>14.072206</td>\n",
       "    </tr>\n",
       "    <tr>\n",
       "      <th>3</th>\n",
       "      <td>Israel</td>\n",
       "      <td>ISR</td>\n",
       "      <td>2000</td>\n",
       "      <td>6114.570</td>\n",
       "      <td>4.077330</td>\n",
       "      <td>1.292539e+05</td>\n",
       "      <td>64.436451</td>\n",
       "      <td>10.266688</td>\n",
       "    </tr>\n",
       "    <tr>\n",
       "      <th>4</th>\n",
       "      <td>Malawi</td>\n",
       "      <td>MWI</td>\n",
       "      <td>2000</td>\n",
       "      <td>11801.505</td>\n",
       "      <td>59.543808</td>\n",
       "      <td>5.026222e+03</td>\n",
       "      <td>74.707624</td>\n",
       "      <td>11.658954</td>\n",
       "    </tr>\n",
       "  </tbody>\n",
       "</table>\n",
       "</div>"
      ],
      "text/plain": [
       "  country country isocode  year          POP       XRAT         tcgdp  \\\n",
       "2   India             IND  2000  1006300.297  44.941600  1.728144e+06   \n",
       "3  Israel             ISR  2000     6114.570   4.077330  1.292539e+05   \n",
       "4  Malawi             MWI  2000    11801.505  59.543808  5.026222e+03   \n",
       "\n",
       "          cc         cg  \n",
       "2  64.575551  14.072206  \n",
       "3  64.436451  10.266688  \n",
       "4  74.707624  11.658954  "
      ]
     },
     "execution_count": 25,
     "metadata": {},
     "output_type": "execute_result"
    }
   ],
   "source": [
    "df[2:5]"
   ]
  },
  {
   "cell_type": "code",
   "execution_count": 26,
   "metadata": {},
   "outputs": [
    {
     "data": {
      "text/html": [
       "<div>\n",
       "<style scoped>\n",
       "    .dataframe tbody tr th:only-of-type {\n",
       "        vertical-align: middle;\n",
       "    }\n",
       "\n",
       "    .dataframe tbody tr th {\n",
       "        vertical-align: top;\n",
       "    }\n",
       "\n",
       "    .dataframe thead th {\n",
       "        text-align: right;\n",
       "    }\n",
       "</style>\n",
       "<table border=\"1\" class=\"dataframe\">\n",
       "  <thead>\n",
       "    <tr style=\"text-align: right;\">\n",
       "      <th></th>\n",
       "      <th>country</th>\n",
       "      <th>country isocode</th>\n",
       "      <th>year</th>\n",
       "      <th>POP</th>\n",
       "      <th>XRAT</th>\n",
       "      <th>tcgdp</th>\n",
       "      <th>cc</th>\n",
       "      <th>cg</th>\n",
       "    </tr>\n",
       "  </thead>\n",
       "  <tbody>\n",
       "    <tr>\n",
       "      <th>0</th>\n",
       "      <td>Argentina</td>\n",
       "      <td>ARG</td>\n",
       "      <td>2000</td>\n",
       "      <td>37335.653</td>\n",
       "      <td>0.999500</td>\n",
       "      <td>2.950722e+05</td>\n",
       "      <td>75.716805</td>\n",
       "      <td>5.578804</td>\n",
       "    </tr>\n",
       "    <tr>\n",
       "      <th>1</th>\n",
       "      <td>Australia</td>\n",
       "      <td>AUS</td>\n",
       "      <td>2000</td>\n",
       "      <td>19053.186</td>\n",
       "      <td>1.724830</td>\n",
       "      <td>5.418047e+05</td>\n",
       "      <td>67.759026</td>\n",
       "      <td>6.720098</td>\n",
       "    </tr>\n",
       "    <tr>\n",
       "      <th>2</th>\n",
       "      <td>India</td>\n",
       "      <td>IND</td>\n",
       "      <td>2000</td>\n",
       "      <td>1006300.297</td>\n",
       "      <td>44.941600</td>\n",
       "      <td>1.728144e+06</td>\n",
       "      <td>64.575551</td>\n",
       "      <td>14.072206</td>\n",
       "    </tr>\n",
       "    <tr>\n",
       "      <th>3</th>\n",
       "      <td>Israel</td>\n",
       "      <td>ISR</td>\n",
       "      <td>2000</td>\n",
       "      <td>6114.570</td>\n",
       "      <td>4.077330</td>\n",
       "      <td>1.292539e+05</td>\n",
       "      <td>64.436451</td>\n",
       "      <td>10.266688</td>\n",
       "    </tr>\n",
       "    <tr>\n",
       "      <th>4</th>\n",
       "      <td>Malawi</td>\n",
       "      <td>MWI</td>\n",
       "      <td>2000</td>\n",
       "      <td>11801.505</td>\n",
       "      <td>59.543808</td>\n",
       "      <td>5.026222e+03</td>\n",
       "      <td>74.707624</td>\n",
       "      <td>11.658954</td>\n",
       "    </tr>\n",
       "    <tr>\n",
       "      <th>5</th>\n",
       "      <td>South Africa</td>\n",
       "      <td>ZAF</td>\n",
       "      <td>2000</td>\n",
       "      <td>45064.098</td>\n",
       "      <td>6.939830</td>\n",
       "      <td>2.272424e+05</td>\n",
       "      <td>72.718710</td>\n",
       "      <td>5.726546</td>\n",
       "    </tr>\n",
       "    <tr>\n",
       "      <th>6</th>\n",
       "      <td>United States</td>\n",
       "      <td>USA</td>\n",
       "      <td>2000</td>\n",
       "      <td>282171.957</td>\n",
       "      <td>1.000000</td>\n",
       "      <td>9.898700e+06</td>\n",
       "      <td>72.347054</td>\n",
       "      <td>6.032454</td>\n",
       "    </tr>\n",
       "    <tr>\n",
       "      <th>7</th>\n",
       "      <td>Uruguay</td>\n",
       "      <td>URY</td>\n",
       "      <td>2000</td>\n",
       "      <td>3219.793</td>\n",
       "      <td>12.099592</td>\n",
       "      <td>2.525596e+04</td>\n",
       "      <td>78.978740</td>\n",
       "      <td>5.108068</td>\n",
       "    </tr>\n",
       "  </tbody>\n",
       "</table>\n",
       "</div>"
      ],
      "text/plain": [
       "         country country isocode  year          POP       XRAT         tcgdp  \\\n",
       "0      Argentina             ARG  2000    37335.653   0.999500  2.950722e+05   \n",
       "1      Australia             AUS  2000    19053.186   1.724830  5.418047e+05   \n",
       "2          India             IND  2000  1006300.297  44.941600  1.728144e+06   \n",
       "3         Israel             ISR  2000     6114.570   4.077330  1.292539e+05   \n",
       "4         Malawi             MWI  2000    11801.505  59.543808  5.026222e+03   \n",
       "5   South Africa             ZAF  2000    45064.098   6.939830  2.272424e+05   \n",
       "6  United States             USA  2000   282171.957   1.000000  9.898700e+06   \n",
       "7        Uruguay             URY  2000     3219.793  12.099592  2.525596e+04   \n",
       "\n",
       "          cc         cg  \n",
       "0  75.716805   5.578804  \n",
       "1  67.759026   6.720098  \n",
       "2  64.575551  14.072206  \n",
       "3  64.436451  10.266688  \n",
       "4  74.707624  11.658954  \n",
       "5  72.718710   5.726546  \n",
       "6  72.347054   6.032454  \n",
       "7  78.978740   5.108068  "
      ]
     },
     "execution_count": 26,
     "metadata": {},
     "output_type": "execute_result"
    }
   ],
   "source": [
    "df[:]"
   ]
  },
  {
   "cell_type": "code",
   "execution_count": 27,
   "metadata": {},
   "outputs": [
    {
     "data": {
      "text/html": [
       "<div>\n",
       "<style scoped>\n",
       "    .dataframe tbody tr th:only-of-type {\n",
       "        vertical-align: middle;\n",
       "    }\n",
       "\n",
       "    .dataframe tbody tr th {\n",
       "        vertical-align: top;\n",
       "    }\n",
       "\n",
       "    .dataframe thead th {\n",
       "        text-align: right;\n",
       "    }\n",
       "</style>\n",
       "<table border=\"1\" class=\"dataframe\">\n",
       "  <thead>\n",
       "    <tr style=\"text-align: right;\">\n",
       "      <th></th>\n",
       "      <th>country</th>\n",
       "      <th>country isocode</th>\n",
       "      <th>year</th>\n",
       "      <th>POP</th>\n",
       "      <th>XRAT</th>\n",
       "      <th>tcgdp</th>\n",
       "      <th>cc</th>\n",
       "      <th>cg</th>\n",
       "    </tr>\n",
       "  </thead>\n",
       "  <tbody>\n",
       "    <tr>\n",
       "      <th>0</th>\n",
       "      <td>Argentina</td>\n",
       "      <td>ARG</td>\n",
       "      <td>2000</td>\n",
       "      <td>37335.653</td>\n",
       "      <td>0.999500</td>\n",
       "      <td>2.950722e+05</td>\n",
       "      <td>75.716805</td>\n",
       "      <td>5.578804</td>\n",
       "    </tr>\n",
       "    <tr>\n",
       "      <th>1</th>\n",
       "      <td>Australia</td>\n",
       "      <td>AUS</td>\n",
       "      <td>2000</td>\n",
       "      <td>19053.186</td>\n",
       "      <td>1.724830</td>\n",
       "      <td>5.418047e+05</td>\n",
       "      <td>67.759026</td>\n",
       "      <td>6.720098</td>\n",
       "    </tr>\n",
       "    <tr>\n",
       "      <th>2</th>\n",
       "      <td>India</td>\n",
       "      <td>IND</td>\n",
       "      <td>2000</td>\n",
       "      <td>1006300.297</td>\n",
       "      <td>44.941600</td>\n",
       "      <td>1.728144e+06</td>\n",
       "      <td>64.575551</td>\n",
       "      <td>14.072206</td>\n",
       "    </tr>\n",
       "    <tr>\n",
       "      <th>3</th>\n",
       "      <td>Israel</td>\n",
       "      <td>ISR</td>\n",
       "      <td>2000</td>\n",
       "      <td>6114.570</td>\n",
       "      <td>4.077330</td>\n",
       "      <td>1.292539e+05</td>\n",
       "      <td>64.436451</td>\n",
       "      <td>10.266688</td>\n",
       "    </tr>\n",
       "    <tr>\n",
       "      <th>4</th>\n",
       "      <td>Malawi</td>\n",
       "      <td>MWI</td>\n",
       "      <td>2000</td>\n",
       "      <td>11801.505</td>\n",
       "      <td>59.543808</td>\n",
       "      <td>5.026222e+03</td>\n",
       "      <td>74.707624</td>\n",
       "      <td>11.658954</td>\n",
       "    </tr>\n",
       "    <tr>\n",
       "      <th>5</th>\n",
       "      <td>South Africa</td>\n",
       "      <td>ZAF</td>\n",
       "      <td>2000</td>\n",
       "      <td>45064.098</td>\n",
       "      <td>6.939830</td>\n",
       "      <td>2.272424e+05</td>\n",
       "      <td>72.718710</td>\n",
       "      <td>5.726546</td>\n",
       "    </tr>\n",
       "    <tr>\n",
       "      <th>6</th>\n",
       "      <td>United States</td>\n",
       "      <td>USA</td>\n",
       "      <td>2000</td>\n",
       "      <td>282171.957</td>\n",
       "      <td>1.000000</td>\n",
       "      <td>9.898700e+06</td>\n",
       "      <td>72.347054</td>\n",
       "      <td>6.032454</td>\n",
       "    </tr>\n",
       "  </tbody>\n",
       "</table>\n",
       "</div>"
      ],
      "text/plain": [
       "         country country isocode  year          POP       XRAT         tcgdp  \\\n",
       "0      Argentina             ARG  2000    37335.653   0.999500  2.950722e+05   \n",
       "1      Australia             AUS  2000    19053.186   1.724830  5.418047e+05   \n",
       "2          India             IND  2000  1006300.297  44.941600  1.728144e+06   \n",
       "3         Israel             ISR  2000     6114.570   4.077330  1.292539e+05   \n",
       "4         Malawi             MWI  2000    11801.505  59.543808  5.026222e+03   \n",
       "5   South Africa             ZAF  2000    45064.098   6.939830  2.272424e+05   \n",
       "6  United States             USA  2000   282171.957   1.000000  9.898700e+06   \n",
       "\n",
       "          cc         cg  \n",
       "0  75.716805   5.578804  \n",
       "1  67.759026   6.720098  \n",
       "2  64.575551  14.072206  \n",
       "3  64.436451  10.266688  \n",
       "4  74.707624  11.658954  \n",
       "5  72.718710   5.726546  \n",
       "6  72.347054   6.032454  "
      ]
     },
     "execution_count": 27,
     "metadata": {},
     "output_type": "execute_result"
    }
   ],
   "source": [
    "df[:-1]"
   ]
  },
  {
   "cell_type": "code",
   "execution_count": 29,
   "metadata": {},
   "outputs": [
    {
     "data": {
      "text/html": [
       "<div>\n",
       "<style scoped>\n",
       "    .dataframe tbody tr th:only-of-type {\n",
       "        vertical-align: middle;\n",
       "    }\n",
       "\n",
       "    .dataframe tbody tr th {\n",
       "        vertical-align: top;\n",
       "    }\n",
       "\n",
       "    .dataframe thead th {\n",
       "        text-align: right;\n",
       "    }\n",
       "</style>\n",
       "<table border=\"1\" class=\"dataframe\">\n",
       "  <thead>\n",
       "    <tr style=\"text-align: right;\">\n",
       "      <th></th>\n",
       "      <th>country</th>\n",
       "      <th>country isocode</th>\n",
       "      <th>year</th>\n",
       "      <th>POP</th>\n",
       "      <th>XRAT</th>\n",
       "      <th>tcgdp</th>\n",
       "      <th>cc</th>\n",
       "      <th>cg</th>\n",
       "    </tr>\n",
       "  </thead>\n",
       "  <tbody>\n",
       "    <tr>\n",
       "      <th>7</th>\n",
       "      <td>Uruguay</td>\n",
       "      <td>URY</td>\n",
       "      <td>2000</td>\n",
       "      <td>3219.793</td>\n",
       "      <td>12.099592</td>\n",
       "      <td>25255.961693</td>\n",
       "      <td>78.97874</td>\n",
       "      <td>5.108068</td>\n",
       "    </tr>\n",
       "  </tbody>\n",
       "</table>\n",
       "</div>"
      ],
      "text/plain": [
       "   country country isocode  year       POP       XRAT         tcgdp        cc  \\\n",
       "7  Uruguay             URY  2000  3219.793  12.099592  25255.961693  78.97874   \n",
       "\n",
       "         cg  \n",
       "7  5.108068  "
      ]
     },
     "execution_count": 29,
     "metadata": {},
     "output_type": "execute_result"
    }
   ],
   "source": [
    "df[-1:]"
   ]
  },
  {
   "cell_type": "code",
   "execution_count": 30,
   "metadata": {},
   "outputs": [
    {
     "data": {
      "text/html": [
       "<div>\n",
       "<style scoped>\n",
       "    .dataframe tbody tr th:only-of-type {\n",
       "        vertical-align: middle;\n",
       "    }\n",
       "\n",
       "    .dataframe tbody tr th {\n",
       "        vertical-align: top;\n",
       "    }\n",
       "\n",
       "    .dataframe thead th {\n",
       "        text-align: right;\n",
       "    }\n",
       "</style>\n",
       "<table border=\"1\" class=\"dataframe\">\n",
       "  <thead>\n",
       "    <tr style=\"text-align: right;\">\n",
       "      <th></th>\n",
       "      <th>country</th>\n",
       "      <th>tcgdp</th>\n",
       "    </tr>\n",
       "  </thead>\n",
       "  <tbody>\n",
       "    <tr>\n",
       "      <th>0</th>\n",
       "      <td>Argentina</td>\n",
       "      <td>2.950722e+05</td>\n",
       "    </tr>\n",
       "    <tr>\n",
       "      <th>1</th>\n",
       "      <td>Australia</td>\n",
       "      <td>5.418047e+05</td>\n",
       "    </tr>\n",
       "    <tr>\n",
       "      <th>2</th>\n",
       "      <td>India</td>\n",
       "      <td>1.728144e+06</td>\n",
       "    </tr>\n",
       "    <tr>\n",
       "      <th>3</th>\n",
       "      <td>Israel</td>\n",
       "      <td>1.292539e+05</td>\n",
       "    </tr>\n",
       "    <tr>\n",
       "      <th>4</th>\n",
       "      <td>Malawi</td>\n",
       "      <td>5.026222e+03</td>\n",
       "    </tr>\n",
       "    <tr>\n",
       "      <th>5</th>\n",
       "      <td>South Africa</td>\n",
       "      <td>2.272424e+05</td>\n",
       "    </tr>\n",
       "    <tr>\n",
       "      <th>6</th>\n",
       "      <td>United States</td>\n",
       "      <td>9.898700e+06</td>\n",
       "    </tr>\n",
       "    <tr>\n",
       "      <th>7</th>\n",
       "      <td>Uruguay</td>\n",
       "      <td>2.525596e+04</td>\n",
       "    </tr>\n",
       "  </tbody>\n",
       "</table>\n",
       "</div>"
      ],
      "text/plain": [
       "         country         tcgdp\n",
       "0      Argentina  2.950722e+05\n",
       "1      Australia  5.418047e+05\n",
       "2          India  1.728144e+06\n",
       "3         Israel  1.292539e+05\n",
       "4         Malawi  5.026222e+03\n",
       "5   South Africa  2.272424e+05\n",
       "6  United States  9.898700e+06\n",
       "7        Uruguay  2.525596e+04"
      ]
     },
     "execution_count": 30,
     "metadata": {},
     "output_type": "execute_result"
    }
   ],
   "source": [
    "df[['country','tcgdp']]"
   ]
  },
  {
   "cell_type": "code",
   "execution_count": 31,
   "metadata": {},
   "outputs": [
    {
     "data": {
      "text/html": [
       "<div>\n",
       "<style scoped>\n",
       "    .dataframe tbody tr th:only-of-type {\n",
       "        vertical-align: middle;\n",
       "    }\n",
       "\n",
       "    .dataframe tbody tr th {\n",
       "        vertical-align: top;\n",
       "    }\n",
       "\n",
       "    .dataframe thead th {\n",
       "        text-align: right;\n",
       "    }\n",
       "</style>\n",
       "<table border=\"1\" class=\"dataframe\">\n",
       "  <thead>\n",
       "    <tr style=\"text-align: right;\">\n",
       "      <th></th>\n",
       "      <th>country</th>\n",
       "      <th>country isocode</th>\n",
       "      <th>year</th>\n",
       "      <th>POP</th>\n",
       "      <th>XRAT</th>\n",
       "    </tr>\n",
       "  </thead>\n",
       "  <tbody>\n",
       "    <tr>\n",
       "      <th>2</th>\n",
       "      <td>India</td>\n",
       "      <td>IND</td>\n",
       "      <td>2000</td>\n",
       "      <td>1006300.297</td>\n",
       "      <td>44.941600</td>\n",
       "    </tr>\n",
       "    <tr>\n",
       "      <th>3</th>\n",
       "      <td>Israel</td>\n",
       "      <td>ISR</td>\n",
       "      <td>2000</td>\n",
       "      <td>6114.570</td>\n",
       "      <td>4.077330</td>\n",
       "    </tr>\n",
       "    <tr>\n",
       "      <th>4</th>\n",
       "      <td>Malawi</td>\n",
       "      <td>MWI</td>\n",
       "      <td>2000</td>\n",
       "      <td>11801.505</td>\n",
       "      <td>59.543808</td>\n",
       "    </tr>\n",
       "    <tr>\n",
       "      <th>5</th>\n",
       "      <td>South Africa</td>\n",
       "      <td>ZAF</td>\n",
       "      <td>2000</td>\n",
       "      <td>45064.098</td>\n",
       "      <td>6.939830</td>\n",
       "    </tr>\n",
       "  </tbody>\n",
       "</table>\n",
       "</div>"
      ],
      "text/plain": [
       "        country country isocode  year          POP       XRAT\n",
       "2         India             IND  2000  1006300.297  44.941600\n",
       "3        Israel             ISR  2000     6114.570   4.077330\n",
       "4        Malawi             MWI  2000    11801.505  59.543808\n",
       "5  South Africa             ZAF  2000    45064.098   6.939830"
      ]
     },
     "execution_count": 31,
     "metadata": {},
     "output_type": "execute_result"
    }
   ],
   "source": [
    "df.iloc[2:6,0:5]"
   ]
  },
  {
   "cell_type": "code",
   "execution_count": 33,
   "metadata": {},
   "outputs": [
    {
     "data": {
      "text/html": [
       "<div>\n",
       "<style scoped>\n",
       "    .dataframe tbody tr th:only-of-type {\n",
       "        vertical-align: middle;\n",
       "    }\n",
       "\n",
       "    .dataframe tbody tr th {\n",
       "        vertical-align: top;\n",
       "    }\n",
       "\n",
       "    .dataframe thead th {\n",
       "        text-align: right;\n",
       "    }\n",
       "</style>\n",
       "<table border=\"1\" class=\"dataframe\">\n",
       "  <thead>\n",
       "    <tr style=\"text-align: right;\">\n",
       "      <th></th>\n",
       "      <th>country</th>\n",
       "      <th>tcgdp</th>\n",
       "    </tr>\n",
       "  </thead>\n",
       "  <tbody>\n",
       "    <tr>\n",
       "      <th>2</th>\n",
       "      <td>India</td>\n",
       "      <td>1.728144e+06</td>\n",
       "    </tr>\n",
       "    <tr>\n",
       "      <th>3</th>\n",
       "      <td>Israel</td>\n",
       "      <td>1.292539e+05</td>\n",
       "    </tr>\n",
       "    <tr>\n",
       "      <th>4</th>\n",
       "      <td>Malawi</td>\n",
       "      <td>5.026222e+03</td>\n",
       "    </tr>\n",
       "  </tbody>\n",
       "</table>\n",
       "</div>"
      ],
      "text/plain": [
       "  country         tcgdp\n",
       "2   India  1.728144e+06\n",
       "3  Israel  1.292539e+05\n",
       "4  Malawi  5.026222e+03"
      ]
     },
     "execution_count": 33,
     "metadata": {},
     "output_type": "execute_result"
    }
   ],
   "source": [
    "df.loc[df.index[2:5], ['country','tcgdp']]"
   ]
  },
  {
   "cell_type": "code",
   "execution_count": 34,
   "metadata": {},
   "outputs": [
    {
     "data": {
      "text/html": [
       "<div>\n",
       "<style scoped>\n",
       "    .dataframe tbody tr th:only-of-type {\n",
       "        vertical-align: middle;\n",
       "    }\n",
       "\n",
       "    .dataframe tbody tr th {\n",
       "        vertical-align: top;\n",
       "    }\n",
       "\n",
       "    .dataframe thead th {\n",
       "        text-align: right;\n",
       "    }\n",
       "</style>\n",
       "<table border=\"1\" class=\"dataframe\">\n",
       "  <thead>\n",
       "    <tr style=\"text-align: right;\">\n",
       "      <th></th>\n",
       "      <th>country</th>\n",
       "      <th>POP</th>\n",
       "      <th>tcgdp</th>\n",
       "    </tr>\n",
       "  </thead>\n",
       "  <tbody>\n",
       "    <tr>\n",
       "      <th>0</th>\n",
       "      <td>Argentina</td>\n",
       "      <td>37335.653</td>\n",
       "      <td>2.950722e+05</td>\n",
       "    </tr>\n",
       "    <tr>\n",
       "      <th>1</th>\n",
       "      <td>Australia</td>\n",
       "      <td>19053.186</td>\n",
       "      <td>5.418047e+05</td>\n",
       "    </tr>\n",
       "    <tr>\n",
       "      <th>2</th>\n",
       "      <td>India</td>\n",
       "      <td>1006300.297</td>\n",
       "      <td>1.728144e+06</td>\n",
       "    </tr>\n",
       "    <tr>\n",
       "      <th>3</th>\n",
       "      <td>Israel</td>\n",
       "      <td>6114.570</td>\n",
       "      <td>1.292539e+05</td>\n",
       "    </tr>\n",
       "    <tr>\n",
       "      <th>4</th>\n",
       "      <td>Malawi</td>\n",
       "      <td>11801.505</td>\n",
       "      <td>5.026222e+03</td>\n",
       "    </tr>\n",
       "    <tr>\n",
       "      <th>5</th>\n",
       "      <td>South Africa</td>\n",
       "      <td>45064.098</td>\n",
       "      <td>2.272424e+05</td>\n",
       "    </tr>\n",
       "    <tr>\n",
       "      <th>6</th>\n",
       "      <td>United States</td>\n",
       "      <td>282171.957</td>\n",
       "      <td>9.898700e+06</td>\n",
       "    </tr>\n",
       "    <tr>\n",
       "      <th>7</th>\n",
       "      <td>Uruguay</td>\n",
       "      <td>3219.793</td>\n",
       "      <td>2.525596e+04</td>\n",
       "    </tr>\n",
       "  </tbody>\n",
       "</table>\n",
       "</div>"
      ],
      "text/plain": [
       "         country          POP         tcgdp\n",
       "0      Argentina    37335.653  2.950722e+05\n",
       "1      Australia    19053.186  5.418047e+05\n",
       "2          India  1006300.297  1.728144e+06\n",
       "3         Israel     6114.570  1.292539e+05\n",
       "4         Malawi    11801.505  5.026222e+03\n",
       "5   South Africa    45064.098  2.272424e+05\n",
       "6  United States   282171.957  9.898700e+06\n",
       "7        Uruguay     3219.793  2.525596e+04"
      ]
     },
     "execution_count": 34,
     "metadata": {},
     "output_type": "execute_result"
    }
   ],
   "source": [
    "df = df[['country', 'POP', 'tcgdp']]\n",
    "df"
   ]
  },
  {
   "cell_type": "code",
   "execution_count": 35,
   "metadata": {},
   "outputs": [
    {
     "data": {
      "text/html": [
       "<div>\n",
       "<style scoped>\n",
       "    .dataframe tbody tr th:only-of-type {\n",
       "        vertical-align: middle;\n",
       "    }\n",
       "\n",
       "    .dataframe tbody tr th {\n",
       "        vertical-align: top;\n",
       "    }\n",
       "\n",
       "    .dataframe thead th {\n",
       "        text-align: right;\n",
       "    }\n",
       "</style>\n",
       "<table border=\"1\" class=\"dataframe\">\n",
       "  <thead>\n",
       "    <tr style=\"text-align: right;\">\n",
       "      <th></th>\n",
       "      <th>POP</th>\n",
       "      <th>tcgdp</th>\n",
       "    </tr>\n",
       "    <tr>\n",
       "      <th>country</th>\n",
       "      <th></th>\n",
       "      <th></th>\n",
       "    </tr>\n",
       "  </thead>\n",
       "  <tbody>\n",
       "    <tr>\n",
       "      <th>Argentina</th>\n",
       "      <td>37335.653</td>\n",
       "      <td>2.950722e+05</td>\n",
       "    </tr>\n",
       "    <tr>\n",
       "      <th>Australia</th>\n",
       "      <td>19053.186</td>\n",
       "      <td>5.418047e+05</td>\n",
       "    </tr>\n",
       "    <tr>\n",
       "      <th>India</th>\n",
       "      <td>1006300.297</td>\n",
       "      <td>1.728144e+06</td>\n",
       "    </tr>\n",
       "    <tr>\n",
       "      <th>Israel</th>\n",
       "      <td>6114.570</td>\n",
       "      <td>1.292539e+05</td>\n",
       "    </tr>\n",
       "    <tr>\n",
       "      <th>Malawi</th>\n",
       "      <td>11801.505</td>\n",
       "      <td>5.026222e+03</td>\n",
       "    </tr>\n",
       "    <tr>\n",
       "      <th>South Africa</th>\n",
       "      <td>45064.098</td>\n",
       "      <td>2.272424e+05</td>\n",
       "    </tr>\n",
       "    <tr>\n",
       "      <th>United States</th>\n",
       "      <td>282171.957</td>\n",
       "      <td>9.898700e+06</td>\n",
       "    </tr>\n",
       "    <tr>\n",
       "      <th>Uruguay</th>\n",
       "      <td>3219.793</td>\n",
       "      <td>2.525596e+04</td>\n",
       "    </tr>\n",
       "  </tbody>\n",
       "</table>\n",
       "</div>"
      ],
      "text/plain": [
       "                       POP         tcgdp\n",
       "country                                 \n",
       "Argentina        37335.653  2.950722e+05\n",
       "Australia        19053.186  5.418047e+05\n",
       "India          1006300.297  1.728144e+06\n",
       "Israel            6114.570  1.292539e+05\n",
       "Malawi           11801.505  5.026222e+03\n",
       "South Africa     45064.098  2.272424e+05\n",
       "United States   282171.957  9.898700e+06\n",
       "Uruguay           3219.793  2.525596e+04"
      ]
     },
     "execution_count": 35,
     "metadata": {},
     "output_type": "execute_result"
    }
   ],
   "source": [
    "df = df.set_index('country')\n",
    "df"
   ]
  },
  {
   "cell_type": "code",
   "execution_count": 38,
   "metadata": {},
   "outputs": [
    {
     "data": {
      "text/html": [
       "<div>\n",
       "<style scoped>\n",
       "    .dataframe tbody tr th:only-of-type {\n",
       "        vertical-align: middle;\n",
       "    }\n",
       "\n",
       "    .dataframe tbody tr th {\n",
       "        vertical-align: top;\n",
       "    }\n",
       "\n",
       "    .dataframe thead th {\n",
       "        text-align: right;\n",
       "    }\n",
       "</style>\n",
       "<table border=\"1\" class=\"dataframe\">\n",
       "  <thead>\n",
       "    <tr style=\"text-align: right;\">\n",
       "      <th></th>\n",
       "      <th>population</th>\n",
       "      <th>total GDP</th>\n",
       "    </tr>\n",
       "    <tr>\n",
       "      <th>country</th>\n",
       "      <th></th>\n",
       "      <th></th>\n",
       "    </tr>\n",
       "  </thead>\n",
       "  <tbody>\n",
       "    <tr>\n",
       "      <th>Argentina</th>\n",
       "      <td>37335.653</td>\n",
       "      <td>2.950722e+05</td>\n",
       "    </tr>\n",
       "    <tr>\n",
       "      <th>Australia</th>\n",
       "      <td>19053.186</td>\n",
       "      <td>5.418047e+05</td>\n",
       "    </tr>\n",
       "    <tr>\n",
       "      <th>India</th>\n",
       "      <td>1006300.297</td>\n",
       "      <td>1.728144e+06</td>\n",
       "    </tr>\n",
       "    <tr>\n",
       "      <th>Israel</th>\n",
       "      <td>6114.570</td>\n",
       "      <td>1.292539e+05</td>\n",
       "    </tr>\n",
       "    <tr>\n",
       "      <th>Malawi</th>\n",
       "      <td>11801.505</td>\n",
       "      <td>5.026222e+03</td>\n",
       "    </tr>\n",
       "    <tr>\n",
       "      <th>South Africa</th>\n",
       "      <td>45064.098</td>\n",
       "      <td>2.272424e+05</td>\n",
       "    </tr>\n",
       "    <tr>\n",
       "      <th>United States</th>\n",
       "      <td>282171.957</td>\n",
       "      <td>9.898700e+06</td>\n",
       "    </tr>\n",
       "    <tr>\n",
       "      <th>Uruguay</th>\n",
       "      <td>3219.793</td>\n",
       "      <td>2.525596e+04</td>\n",
       "    </tr>\n",
       "  </tbody>\n",
       "</table>\n",
       "</div>"
      ],
      "text/plain": [
       "                population     total GDP\n",
       "country                                 \n",
       "Argentina        37335.653  2.950722e+05\n",
       "Australia        19053.186  5.418047e+05\n",
       "India          1006300.297  1.728144e+06\n",
       "Israel            6114.570  1.292539e+05\n",
       "Malawi           11801.505  5.026222e+03\n",
       "South Africa     45064.098  2.272424e+05\n",
       "United States   282171.957  9.898700e+06\n",
       "Uruguay           3219.793  2.525596e+04"
      ]
     },
     "execution_count": 38,
     "metadata": {},
     "output_type": "execute_result"
    }
   ],
   "source": [
    "df.columns = 'population', 'total GDP'\n",
    "df"
   ]
  },
  {
   "cell_type": "code",
   "execution_count": 41,
   "metadata": {},
   "outputs": [
    {
     "data": {
      "text/html": [
       "<div>\n",
       "<style scoped>\n",
       "    .dataframe tbody tr th:only-of-type {\n",
       "        vertical-align: middle;\n",
       "    }\n",
       "\n",
       "    .dataframe tbody tr th {\n",
       "        vertical-align: top;\n",
       "    }\n",
       "\n",
       "    .dataframe thead th {\n",
       "        text-align: right;\n",
       "    }\n",
       "</style>\n",
       "<table border=\"1\" class=\"dataframe\">\n",
       "  <thead>\n",
       "    <tr style=\"text-align: right;\">\n",
       "      <th></th>\n",
       "      <th>population</th>\n",
       "      <th>total GDP</th>\n",
       "    </tr>\n",
       "    <tr>\n",
       "      <th>country</th>\n",
       "      <th></th>\n",
       "      <th></th>\n",
       "    </tr>\n",
       "  </thead>\n",
       "  <tbody>\n",
       "    <tr>\n",
       "      <th>Argentina</th>\n",
       "      <td>3.733565e+13</td>\n",
       "      <td>2.950722e+05</td>\n",
       "    </tr>\n",
       "    <tr>\n",
       "      <th>Australia</th>\n",
       "      <td>1.905319e+13</td>\n",
       "      <td>5.418047e+05</td>\n",
       "    </tr>\n",
       "    <tr>\n",
       "      <th>India</th>\n",
       "      <td>1.006300e+15</td>\n",
       "      <td>1.728144e+06</td>\n",
       "    </tr>\n",
       "    <tr>\n",
       "      <th>Israel</th>\n",
       "      <td>6.114570e+12</td>\n",
       "      <td>1.292539e+05</td>\n",
       "    </tr>\n",
       "    <tr>\n",
       "      <th>Malawi</th>\n",
       "      <td>1.180150e+13</td>\n",
       "      <td>5.026222e+03</td>\n",
       "    </tr>\n",
       "    <tr>\n",
       "      <th>South Africa</th>\n",
       "      <td>4.506410e+13</td>\n",
       "      <td>2.272424e+05</td>\n",
       "    </tr>\n",
       "    <tr>\n",
       "      <th>United States</th>\n",
       "      <td>2.821720e+14</td>\n",
       "      <td>9.898700e+06</td>\n",
       "    </tr>\n",
       "    <tr>\n",
       "      <th>Uruguay</th>\n",
       "      <td>3.219793e+12</td>\n",
       "      <td>2.525596e+04</td>\n",
       "    </tr>\n",
       "  </tbody>\n",
       "</table>\n",
       "</div>"
      ],
      "text/plain": [
       "                 population     total GDP\n",
       "country                                  \n",
       "Argentina      3.733565e+13  2.950722e+05\n",
       "Australia      1.905319e+13  5.418047e+05\n",
       "India          1.006300e+15  1.728144e+06\n",
       "Israel         6.114570e+12  1.292539e+05\n",
       "Malawi         1.180150e+13  5.026222e+03\n",
       "South Africa   4.506410e+13  2.272424e+05\n",
       "United States  2.821720e+14  9.898700e+06\n",
       "Uruguay        3.219793e+12  2.525596e+04"
      ]
     },
     "execution_count": 41,
     "metadata": {},
     "output_type": "execute_result"
    }
   ],
   "source": [
    "df['population'] = df['population'] * 1e3\n",
    "df"
   ]
  },
  {
   "cell_type": "markdown",
   "metadata": {},
   "source": [
    "De esta manera es como se agrega una columna"
   ]
  },
  {
   "cell_type": "code",
   "execution_count": 42,
   "metadata": {},
   "outputs": [
    {
     "data": {
      "text/html": [
       "<div>\n",
       "<style scoped>\n",
       "    .dataframe tbody tr th:only-of-type {\n",
       "        vertical-align: middle;\n",
       "    }\n",
       "\n",
       "    .dataframe tbody tr th {\n",
       "        vertical-align: top;\n",
       "    }\n",
       "\n",
       "    .dataframe thead th {\n",
       "        text-align: right;\n",
       "    }\n",
       "</style>\n",
       "<table border=\"1\" class=\"dataframe\">\n",
       "  <thead>\n",
       "    <tr style=\"text-align: right;\">\n",
       "      <th></th>\n",
       "      <th>population</th>\n",
       "      <th>total GDP</th>\n",
       "      <th>GDP percap</th>\n",
       "    </tr>\n",
       "    <tr>\n",
       "      <th>country</th>\n",
       "      <th></th>\n",
       "      <th></th>\n",
       "      <th></th>\n",
       "    </tr>\n",
       "  </thead>\n",
       "  <tbody>\n",
       "    <tr>\n",
       "      <th>Argentina</th>\n",
       "      <td>3.733565e+13</td>\n",
       "      <td>2.950722e+05</td>\n",
       "      <td>0.007903</td>\n",
       "    </tr>\n",
       "    <tr>\n",
       "      <th>Australia</th>\n",
       "      <td>1.905319e+13</td>\n",
       "      <td>5.418047e+05</td>\n",
       "      <td>0.028436</td>\n",
       "    </tr>\n",
       "    <tr>\n",
       "      <th>India</th>\n",
       "      <td>1.006300e+15</td>\n",
       "      <td>1.728144e+06</td>\n",
       "      <td>0.001717</td>\n",
       "    </tr>\n",
       "    <tr>\n",
       "      <th>Israel</th>\n",
       "      <td>6.114570e+12</td>\n",
       "      <td>1.292539e+05</td>\n",
       "      <td>0.021139</td>\n",
       "    </tr>\n",
       "    <tr>\n",
       "      <th>Malawi</th>\n",
       "      <td>1.180150e+13</td>\n",
       "      <td>5.026222e+03</td>\n",
       "      <td>0.000426</td>\n",
       "    </tr>\n",
       "    <tr>\n",
       "      <th>South Africa</th>\n",
       "      <td>4.506410e+13</td>\n",
       "      <td>2.272424e+05</td>\n",
       "      <td>0.005043</td>\n",
       "    </tr>\n",
       "    <tr>\n",
       "      <th>United States</th>\n",
       "      <td>2.821720e+14</td>\n",
       "      <td>9.898700e+06</td>\n",
       "      <td>0.035080</td>\n",
       "    </tr>\n",
       "    <tr>\n",
       "      <th>Uruguay</th>\n",
       "      <td>3.219793e+12</td>\n",
       "      <td>2.525596e+04</td>\n",
       "      <td>0.007844</td>\n",
       "    </tr>\n",
       "  </tbody>\n",
       "</table>\n",
       "</div>"
      ],
      "text/plain": [
       "                 population     total GDP  GDP percap\n",
       "country                                              \n",
       "Argentina      3.733565e+13  2.950722e+05    0.007903\n",
       "Australia      1.905319e+13  5.418047e+05    0.028436\n",
       "India          1.006300e+15  1.728144e+06    0.001717\n",
       "Israel         6.114570e+12  1.292539e+05    0.021139\n",
       "Malawi         1.180150e+13  5.026222e+03    0.000426\n",
       "South Africa   4.506410e+13  2.272424e+05    0.005043\n",
       "United States  2.821720e+14  9.898700e+06    0.035080\n",
       "Uruguay        3.219793e+12  2.525596e+04    0.007844"
      ]
     },
     "execution_count": 42,
     "metadata": {},
     "output_type": "execute_result"
    }
   ],
   "source": [
    "df['GDP percap'] = df['total GDP'] * 1e6 / df['population']\n",
    "df"
   ]
  },
  {
   "cell_type": "code",
   "execution_count": 43,
   "metadata": {},
   "outputs": [
    {
     "data": {
      "image/png": "[encoded data removed]",
      "text/plain": [
       "<Figure size 432x288 with 1 Axes>"
      ]
     },
     "metadata": {},
     "output_type": "display_data"
    }
   ],
   "source": [
    "import matplotlib.pyplot as plt \n",
    "%matplotlib inline\n",
    "\n",
    "df['GDP percap'].plot(kind='bar')\n",
    "plt.show()"
   ]
  },
  {
   "cell_type": "code",
   "execution_count": 45,
   "metadata": {},
   "outputs": [
    {
     "data": {
      "text/html": [
       "<div>\n",
       "<style scoped>\n",
       "    .dataframe tbody tr th:only-of-type {\n",
       "        vertical-align: middle;\n",
       "    }\n",
       "\n",
       "    .dataframe tbody tr th {\n",
       "        vertical-align: top;\n",
       "    }\n",
       "\n",
       "    .dataframe thead th {\n",
       "        text-align: right;\n",
       "    }\n",
       "</style>\n",
       "<table border=\"1\" class=\"dataframe\">\n",
       "  <thead>\n",
       "    <tr style=\"text-align: right;\">\n",
       "      <th></th>\n",
       "      <th>population</th>\n",
       "      <th>total GDP</th>\n",
       "      <th>GDP percap</th>\n",
       "    </tr>\n",
       "    <tr>\n",
       "      <th>country</th>\n",
       "      <th></th>\n",
       "      <th></th>\n",
       "      <th></th>\n",
       "    </tr>\n",
       "  </thead>\n",
       "  <tbody>\n",
       "    <tr>\n",
       "      <th>United States</th>\n",
       "      <td>2.821720e+14</td>\n",
       "      <td>9.898700e+06</td>\n",
       "      <td>0.035080</td>\n",
       "    </tr>\n",
       "    <tr>\n",
       "      <th>Australia</th>\n",
       "      <td>1.905319e+13</td>\n",
       "      <td>5.418047e+05</td>\n",
       "      <td>0.028436</td>\n",
       "    </tr>\n",
       "    <tr>\n",
       "      <th>Israel</th>\n",
       "      <td>6.114570e+12</td>\n",
       "      <td>1.292539e+05</td>\n",
       "      <td>0.021139</td>\n",
       "    </tr>\n",
       "    <tr>\n",
       "      <th>Argentina</th>\n",
       "      <td>3.733565e+13</td>\n",
       "      <td>2.950722e+05</td>\n",
       "      <td>0.007903</td>\n",
       "    </tr>\n",
       "    <tr>\n",
       "      <th>Uruguay</th>\n",
       "      <td>3.219793e+12</td>\n",
       "      <td>2.525596e+04</td>\n",
       "      <td>0.007844</td>\n",
       "    </tr>\n",
       "    <tr>\n",
       "      <th>South Africa</th>\n",
       "      <td>4.506410e+13</td>\n",
       "      <td>2.272424e+05</td>\n",
       "      <td>0.005043</td>\n",
       "    </tr>\n",
       "    <tr>\n",
       "      <th>India</th>\n",
       "      <td>1.006300e+15</td>\n",
       "      <td>1.728144e+06</td>\n",
       "      <td>0.001717</td>\n",
       "    </tr>\n",
       "    <tr>\n",
       "      <th>Malawi</th>\n",
       "      <td>1.180150e+13</td>\n",
       "      <td>5.026222e+03</td>\n",
       "      <td>0.000426</td>\n",
       "    </tr>\n",
       "  </tbody>\n",
       "</table>\n",
       "</div>"
      ],
      "text/plain": [
       "                 population     total GDP  GDP percap\n",
       "country                                              \n",
       "United States  2.821720e+14  9.898700e+06    0.035080\n",
       "Australia      1.905319e+13  5.418047e+05    0.028436\n",
       "Israel         6.114570e+12  1.292539e+05    0.021139\n",
       "Argentina      3.733565e+13  2.950722e+05    0.007903\n",
       "Uruguay        3.219793e+12  2.525596e+04    0.007844\n",
       "South Africa   4.506410e+13  2.272424e+05    0.005043\n",
       "India          1.006300e+15  1.728144e+06    0.001717\n",
       "Malawi         1.180150e+13  5.026222e+03    0.000426"
      ]
     },
     "execution_count": 45,
     "metadata": {},
     "output_type": "execute_result"
    }
   ],
   "source": [
    "df = df.sort_values(by='GDP percap', ascending=False)\n",
    "df"
   ]
  },
  {
   "cell_type": "code",
   "execution_count": 46,
   "metadata": {},
   "outputs": [
    {
     "data": {
      "image/png": "[encoded data removed]",
      "text/plain": [
       "<Figure size 432x288 with 1 Axes>"
      ]
     },
     "metadata": {},
     "output_type": "display_data"
    }
   ],
   "source": [
    "df['GDP percap'].plot(kind='bar')\n",
    "plt.show()"
   ]
  },
  {
   "cell_type": "code",
   "execution_count": 48,
   "metadata": {},
   "outputs": [
    {
     "data": {
      "text/plain": [
       "'DATE,VALUE\\r'"
      ]
     },
     "execution_count": 48,
     "metadata": {},
     "output_type": "execute_result"
    }
   ],
   "source": [
    "import requests\n",
    "\n",
    "r = requests.get('http://research.stlouisfed.org/fred2/series/UNRATE/downloaddata/UNRATE.csv')\n",
    "\n",
    "url = 'http://research.stlouisfed.org/fred2/series/UNRATE/downloaddata/UNRATE.csv'\n",
    "source = requests.get(url).content.decode().split(\"\\n\")\n",
    "source[0]"
   ]
  },
  {
   "cell_type": "code",
   "execution_count": 49,
   "metadata": {},
   "outputs": [
    {
     "data": {
      "text/plain": [
       "'1948-01-01,3.4\\r'"
      ]
     },
     "execution_count": 49,
     "metadata": {},
     "output_type": "execute_result"
    }
   ],
   "source": [
    "source[1]"
   ]
  },
  {
   "cell_type": "code",
   "execution_count": 50,
   "metadata": {},
   "outputs": [],
   "source": [
    "data = pd.read_csv(url, index_col=0, parse_dates=True)"
   ]
  },
  {
   "cell_type": "code",
   "execution_count": 51,
   "metadata": {},
   "outputs": [
    {
     "data": {
      "text/html": [
       "<div>\n",
       "<style scoped>\n",
       "    .dataframe tbody tr th:only-of-type {\n",
       "        vertical-align: middle;\n",
       "    }\n",
       "\n",
       "    .dataframe tbody tr th {\n",
       "        vertical-align: top;\n",
       "    }\n",
       "\n",
       "    .dataframe thead th {\n",
       "        text-align: right;\n",
       "    }\n",
       "</style>\n",
       "<table border=\"1\" class=\"dataframe\">\n",
       "  <thead>\n",
       "    <tr style=\"text-align: right;\">\n",
       "      <th></th>\n",
       "      <th>VALUE</th>\n",
       "    </tr>\n",
       "    <tr>\n",
       "      <th>DATE</th>\n",
       "      <th></th>\n",
       "    </tr>\n",
       "  </thead>\n",
       "  <tbody>\n",
       "    <tr>\n",
       "      <th>1948-01-01</th>\n",
       "      <td>3.4</td>\n",
       "    </tr>\n",
       "    <tr>\n",
       "      <th>1948-02-01</th>\n",
       "      <td>3.8</td>\n",
       "    </tr>\n",
       "    <tr>\n",
       "      <th>1948-03-01</th>\n",
       "      <td>4.0</td>\n",
       "    </tr>\n",
       "    <tr>\n",
       "      <th>1948-04-01</th>\n",
       "      <td>3.9</td>\n",
       "    </tr>\n",
       "    <tr>\n",
       "      <th>1948-05-01</th>\n",
       "      <td>3.5</td>\n",
       "    </tr>\n",
       "  </tbody>\n",
       "</table>\n",
       "</div>"
      ],
      "text/plain": [
       "            VALUE\n",
       "DATE             \n",
       "1948-01-01    3.4\n",
       "1948-02-01    3.8\n",
       "1948-03-01    4.0\n",
       "1948-04-01    3.9\n",
       "1948-05-01    3.5"
      ]
     },
     "execution_count": 51,
     "metadata": {},
     "output_type": "execute_result"
    }
   ],
   "source": [
    "data.head()"
   ]
  },
  {
   "cell_type": "code",
   "execution_count": 52,
   "metadata": {},
   "outputs": [
    {
     "data": {
      "text/html": [
       "<div>\n",
       "<style scoped>\n",
       "    .dataframe tbody tr th:only-of-type {\n",
       "        vertical-align: middle;\n",
       "    }\n",
       "\n",
       "    .dataframe tbody tr th {\n",
       "        vertical-align: top;\n",
       "    }\n",
       "\n",
       "    .dataframe thead th {\n",
       "        text-align: right;\n",
       "    }\n",
       "</style>\n",
       "<table border=\"1\" class=\"dataframe\">\n",
       "  <thead>\n",
       "    <tr style=\"text-align: right;\">\n",
       "      <th></th>\n",
       "      <th>VALUE</th>\n",
       "    </tr>\n",
       "  </thead>\n",
       "  <tbody>\n",
       "    <tr>\n",
       "      <th>count</th>\n",
       "      <td>854.0</td>\n",
       "    </tr>\n",
       "    <tr>\n",
       "      <th>mean</th>\n",
       "      <td>5.8</td>\n",
       "    </tr>\n",
       "    <tr>\n",
       "      <th>std</th>\n",
       "      <td>1.6</td>\n",
       "    </tr>\n",
       "    <tr>\n",
       "      <th>min</th>\n",
       "      <td>2.5</td>\n",
       "    </tr>\n",
       "    <tr>\n",
       "      <th>25%</th>\n",
       "      <td>4.6</td>\n",
       "    </tr>\n",
       "    <tr>\n",
       "      <th>50%</th>\n",
       "      <td>5.6</td>\n",
       "    </tr>\n",
       "    <tr>\n",
       "      <th>75%</th>\n",
       "      <td>6.8</td>\n",
       "    </tr>\n",
       "    <tr>\n",
       "      <th>max</th>\n",
       "      <td>10.8</td>\n",
       "    </tr>\n",
       "  </tbody>\n",
       "</table>\n",
       "</div>"
      ],
      "text/plain": [
       "       VALUE\n",
       "count  854.0\n",
       "mean     5.8\n",
       "std      1.6\n",
       "min      2.5\n",
       "25%      4.6\n",
       "50%      5.6\n",
       "75%      6.8\n",
       "max     10.8"
      ]
     },
     "execution_count": 52,
     "metadata": {},
     "output_type": "execute_result"
    }
   ],
   "source": [
    "pd.set_option('precision',1)\n",
    "data.describe()"
   ]
  },
  {
   "cell_type": "code",
   "execution_count": 55,
   "metadata": {},
   "outputs": [
    {
     "data": {
      "image/png": "[encoded data removed]",
      "text/plain": [
       "<Figure size 432x288 with 1 Axes>"
      ]
     },
     "metadata": {},
     "output_type": "display_data"
    }
   ],
   "source": [
    "data['1950':'2013'].plot()\n",
    "plt.show()"
   ]
  },
  {
   "cell_type": "markdown",
   "metadata": {},
   "source": [
    "## Accessing World Bank Data"
   ]
  },
  {
   "cell_type": "code",
   "execution_count": 6,
   "metadata": {},
   "outputs": [
    {
     "data": {
      "image/png": "[encoded data removed]",
      "text/plain": [
       "<Figure size 432x288 with 1 Axes>"
      ]
     },
     "metadata": {},
     "output_type": "display_data"
    }
   ],
   "source": [
    "import matplotlib.pyplot as plt\n",
    "import requests\n",
    "import pandas as pd\n",
    "\n",
    "# Obtener datos desde gd.xls\n",
    "wb_data_query = \"http://api.worldbank.org/v2/en/indicator/gc.dod.totl.gd.zs?downloadformat=excel\"\n",
    "r = requests.get(wb_data_query)\n",
    "with open('gd.xls','wb') as output:\n",
    "    output.write(r.content)\n",
    "    \n",
    "# Ordenas datos en un data frame\n",
    "govt_debt = pd.read_excel('gd.xls', sheet_name='Data', skiprows=3, index_col=1)\n",
    "\n",
    "# Obterner valores deceados y graficar\n",
    "govt_debt = govt_debt.transpose()\n",
    "govt_debt = govt_debt[['AUS','USA']]\n",
    "govt_debt = govt_debt[38:]\n",
    "govt_debt.plot(lw=2)\n",
    "plt.show()\n"
   ]
  },
  {
   "cell_type": "markdown",
   "metadata": {},
   "source": [
    "## Exercises \n",
    "### Exercise 1"
   ]
  },
  {
   "cell_type": "code",
   "execution_count": null,
   "metadata": {},
   "outputs": [],
   "source": [
    "ticker = pd.read_csv('https://github.com/QuantEcon/QuantEcon.lectures.code/raw/master/pandas/data/ticker_data.csv')\n",
    "ticker.set_index('Date', inplace=True)\n",
    "\n",
    "ticker_list = {'INTC': 'Intel',\n",
    "               'MSFT': 'Microsoft',\n",
    "               'IBM': 'IBM',\n",
    "               'BHP': 'BHP',\n",
    "               'TM': 'Toyota',\n",
    "               'AAPL': 'Apple',\n",
    "               'AMZN': 'Amazon',\n",
    "               'BA': 'Boeing',\n",
    "               'QCOM': 'Qualcomm',\n",
    "               'KO': 'Coca-Cola',\n",
    "               'GOOG': 'Google',\n",
    "               'SNE': 'Sony',\n",
    "               'PTR': 'PetroChina'}\n",
    "price_change = pd.Series()\n",
    "\n",
    "for tick in ticker_list:\n",
    "    change = 100 * (ticker.loc[ticker.index[-1], tick] - ticker.loc[ticker.index[0], tick]) / ticker.loc[ticker.index[0], tick]\n",
    "    name = ticker_list[tick]\n",
    "    price_change[name] = change\n",
    "\n",
    "price_change.sort_values(inplace=True)\n",
    "fig, ax = plt.subplots(figsize=(10,8))\n",
    "price_change.plot(kind='bar', ax=ax)\n",
    "plt.\n",
    "    \n",
    "    "
   ]
  }
 ],
 "metadata": {
  "kernelspec": {
   "display_name": "Python 3",
   "language": "python",
   "name": "python3"
  },
  "language_info": {
   "codemirror_mode": {
    "name": "ipython",
    "version": 3
   },
   "file_extension": ".py",
   "mimetype": "text/x-python",
   "name": "python",
   "nbconvert_exporter": "python",
   "pygments_lexer": "ipython3",
   "version": "3.6.5"
  }
 },
 "nbformat": 4,
 "nbformat_minor": 2
}
